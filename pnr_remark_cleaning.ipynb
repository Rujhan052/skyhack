{
 "cells": [
  {
   "cell_type": "code",
   "execution_count": 2,
   "id": "910ce729",
   "metadata": {},
   "outputs": [],
   "source": [
    "import pandas as pd\n",
    "import numpy as np\n",
    "import matplotlib.pyplot as plt\n",
    "import seaborn as sns"
   ]
  },
  {
   "cell_type": "code",
   "execution_count": null,
   "id": "5ac7059f",
   "metadata": {},
   "outputs": [
    {
     "name": "stdout",
     "output_type": "stream",
     "text": [
      "  record_locator pnr_creation_date  flight_number special_service_request\n",
      "0     PNR_153489        04-07-2025            308      Airport Wheelchair\n",
      "1     PNR_153489        04-07-2025           2182      Airport Wheelchair\n",
      "2     PNR_153508        10-07-2025           2649      Airport Wheelchair\n",
      "3     PNR_153508        10-07-2025           2100      Airport Wheelchair\n",
      "4     PNR_153521        01-03-2025            970     Unaccompanied Minor\n"
     ]
    },
    {
     "data": {
      "text/html": [
       "<div>\n",
       "<style scoped>\n",
       "    .dataframe tbody tr th:only-of-type {\n",
       "        vertical-align: middle;\n",
       "    }\n",
       "\n",
       "    .dataframe tbody tr th {\n",
       "        vertical-align: top;\n",
       "    }\n",
       "\n",
       "    .dataframe thead th {\n",
       "        text-align: right;\n",
       "    }\n",
       "</style>\n",
       "<table border=\"1\" class=\"dataframe\">\n",
       "  <thead>\n",
       "    <tr style=\"text-align: right;\">\n",
       "      <th></th>\n",
       "      <th>flight_number</th>\n",
       "    </tr>\n",
       "  </thead>\n",
       "  <tbody>\n",
       "    <tr>\n",
       "      <th>count</th>\n",
       "      <td>51698.00</td>\n",
       "    </tr>\n",
       "    <tr>\n",
       "      <th>mean</th>\n",
       "      <td>2577.23</td>\n",
       "    </tr>\n",
       "    <tr>\n",
       "      <th>std</th>\n",
       "      <td>2047.59</td>\n",
       "    </tr>\n",
       "    <tr>\n",
       "      <th>min</th>\n",
       "      <td>0.00</td>\n",
       "    </tr>\n",
       "    <tr>\n",
       "      <th>25%</th>\n",
       "      <td>1006.00</td>\n",
       "    </tr>\n",
       "    <tr>\n",
       "      <th>50%</th>\n",
       "      <td>1992.00</td>\n",
       "    </tr>\n",
       "    <tr>\n",
       "      <th>75%</th>\n",
       "      <td>4168.00</td>\n",
       "    </tr>\n",
       "    <tr>\n",
       "      <th>max</th>\n",
       "      <td>9998.00</td>\n",
       "    </tr>\n",
       "  </tbody>\n",
       "</table>\n",
       "</div>"
      ],
      "text/plain": [
       "       flight_number\n",
       "count       51698.00\n",
       "mean         2577.23\n",
       "std          2047.59\n",
       "min             0.00\n",
       "25%          1006.00\n",
       "50%          1992.00\n",
       "75%          4168.00\n",
       "max          9998.00"
      ]
     },
     "execution_count": 4,
     "metadata": {},
     "output_type": "execute_result"
    }
   ],
   "source": [
    "df= pd.read_csv(r\"C:\\Users\\rujha\\Downloads\\PNR Remark Level Data.csv\")\n",
    "print(df.head()) \n",
    "df.describe().round(2)"
   ]
  },
  {
   "cell_type": "code",
   "execution_count": 5,
   "id": "3e05cdc9",
   "metadata": {},
   "outputs": [
    {
     "data": {
      "text/plain": [
       "record_locator             0\n",
       "pnr_creation_date          0\n",
       "flight_number              0\n",
       "special_service_request    0\n",
       "dtype: int64"
      ]
     },
     "execution_count": 5,
     "metadata": {},
     "output_type": "execute_result"
    }
   ],
   "source": [
    "df.isnull().sum() # No Null value found"
   ]
  },
  {
   "cell_type": "code",
   "execution_count": 6,
   "id": "24289e95",
   "metadata": {},
   "outputs": [
    {
     "data": {
      "text/plain": [
       "np.int64(0)"
      ]
     },
     "execution_count": 6,
     "metadata": {},
     "output_type": "execute_result"
    }
   ],
   "source": [
    "df.duplicated().sum() # No duplicates found"
   ]
  },
  {
   "cell_type": "code",
   "execution_count": 12,
   "id": "5e3a46a2",
   "metadata": {},
   "outputs": [],
   "source": [
    "df['pnr_creation_date'] = pd.to_datetime(df['pnr_creation_date'], format='%d-%m-%Y')\n",
    "\n",
    "df['record_locator'] = df['record_locator'].str.replace('PNR_', '', regex=False)\n",
    "\n",
    "df['record_locator'] = pd.to_numeric(df['record_locator'])"
   ]
  },
  {
   "cell_type": "code",
   "execution_count": 13,
   "id": "0d61d70e",
   "metadata": {},
   "outputs": [],
   "source": [
    "df.to_csv('pnr_remark_cleaned.csv')"
   ]
  },
  {
   "cell_type": "code",
   "execution_count": null,
   "id": "64ea3bdb",
   "metadata": {},
   "outputs": [],
   "source": []
  }
 ],
 "metadata": {
  "kernelspec": {
   "display_name": ".venv",
   "language": "python",
   "name": "python3"
  },
  "language_info": {
   "codemirror_mode": {
    "name": "ipython",
    "version": 3
   },
   "file_extension": ".py",
   "mimetype": "text/x-python",
   "name": "python",
   "nbconvert_exporter": "python",
   "pygments_lexer": "ipython3",
   "version": "3.13.7"
  }
 },
 "nbformat": 4,
 "nbformat_minor": 5
}
