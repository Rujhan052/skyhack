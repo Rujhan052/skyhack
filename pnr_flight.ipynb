{
 "cells": [
  {
   "cell_type": "code",
   "execution_count": 3,
   "id": "d4571bc0",
   "metadata": {},
   "outputs": [],
   "source": [
    "import pandas as pd\n",
    "\n",
    "df = pd.read_csv(r\"C:\\Users\\rujha\\OneDrive\\Desktop\\skyhack\\PNR+Flight+Level+Data.csv\")\n",
    "df['record_locator'] = df['record_locator'].str.replace('PNR_', '', regex=False)\n",
    "\n",
    "#Renaming\n",
    "df.rename(columns={'record_locator': 'pnr_number'}, inplace=True)\n",
    "\n",
    "# Convert the column to a numeric data type\n",
    "df['pnr_number'] = pd.to_numeric(df['pnr_number'])\n",
    "\n",
    "# Replace 0s and 1s with 'N' and 'Y'\n",
    "df['basic_economy_ind'] = df['basic_economy_ind'].replace({\n",
    "    0: 'N',\n",
    "    1: 'Y'\n",
    "})\n",
    "\n",
    "# Convert date columns to datetime objects\n",
    "df['scheduled_departure_date_local'] = pd.to_datetime(df['scheduled_departure_date_local'], dayfirst=True)\n",
    "df['pnr_creation_date'] = pd.to_datetime(df['pnr_creation_date'], dayfirst=True)\n",
    "\n",
    "# Calculate the difference in days\n",
    "df['days_in_advance'] = (df['scheduled_departure_date_local'] - df['pnr_creation_date']).dt.days\n",
    "\n",
    "df.to_csv('pnr_flight_cleaned.csv', index=False)"
   ]
  },
  {
   "cell_type": "code",
   "execution_count": null,
   "id": "e8b7cd61",
   "metadata": {},
   "outputs": [],
   "source": []
  }
 ],
 "metadata": {
  "kernelspec": {
   "display_name": ".venv",
   "language": "python",
   "name": "python3"
  },
  "language_info": {
   "codemirror_mode": {
    "name": "ipython",
    "version": 3
   },
   "file_extension": ".py",
   "mimetype": "text/x-python",
   "name": "python",
   "nbconvert_exporter": "python",
   "pygments_lexer": "ipython3",
   "version": "3.13.7"
  }
 },
 "nbformat": 4,
 "nbformat_minor": 5
}
