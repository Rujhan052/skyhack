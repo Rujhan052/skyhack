{
 "cells": [
  {
   "cell_type": "code",
   "execution_count": null,
   "id": "5dfa85a3",
   "metadata": {},
   "outputs": [],
   "source": [
    "import pandas as pd\n",
    "df=pd.read_csv(r\"C:\\Users\\rujha\\OneDrive\\Desktop\\skyhack\\Bag+Level+Data.csv\")\n",
    "df['scheduled_departure_date_local']=pd.to_datetime(df['scheduled_departure_date_local'], dayfirst=True)  \n",
    "df['bag_tag_issue_date']=pd.to_datetime(df['bag_tag_issue_date'], dayfirst=True)  \n",
    "df['bag_tag_unique_number']=df['bag_tag_unique_number'].str.replace('BAGTAG_','', regex=False)\n",
    "df['bag_tag_unique_number']=pd.to_numeric(df['bag_tag_unique_number'])\n",
    "df['checkin_time_before_departure_inDays']= (df['scheduled_departure_date_local'] - df['bag_tag_issue_date']).dt.days\n",
    "df['checkin_time_before_departure_inDays']=df['checkin_time_before_departure_inDays'].clip(lower=0)\n",
    "df.to_csv('bag_tag_cleaned.csv', index=False)\n"
   ]
  },
  {
   "cell_type": "code",
   "execution_count": null,
   "id": "6ade5646",
   "metadata": {},
   "outputs": [],
   "source": []
  }
 ],
 "metadata": {
  "kernelspec": {
   "display_name": ".venv",
   "language": "python",
   "name": "python3"
  },
  "language_info": {
   "codemirror_mode": {
    "name": "ipython",
    "version": 3
   },
   "file_extension": ".py",
   "mimetype": "text/x-python",
   "name": "python",
   "nbconvert_exporter": "python",
   "pygments_lexer": "ipython3",
   "version": "3.13.7"
  }
 },
 "nbformat": 4,
 "nbformat_minor": 5
}
